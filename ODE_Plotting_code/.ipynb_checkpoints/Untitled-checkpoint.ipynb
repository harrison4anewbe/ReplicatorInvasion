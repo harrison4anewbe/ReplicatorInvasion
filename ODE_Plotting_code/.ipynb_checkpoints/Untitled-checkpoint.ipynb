{
 "cells": [
  {
   "cell_type": "code",
   "execution_count": 2,
   "id": "97a0dd1d",
   "metadata": {},
   "outputs": [
    {
     "name": "stdout",
     "output_type": "stream",
     "text": [
      "[[0. 0. 0. ... 0. 0. 0.]\n",
      " [1. 0. 0. ... 0. 0. 0.]\n",
      " [1. 1. 0. ... 0. 0. 0.]\n",
      " ...\n",
      " [0. 0. 0. ... 0. 0. 1.]\n",
      " [0. 0. 0. ... 0. 0. 1.]\n",
      " [0. 0. 0. ... 0. 0. 0.]]\n"
     ]
    }
   ],
   "source": [
    "import csv\n",
    "from scipy.integrate import odeint\n",
    "import matplotlib.pyplot as plt\n",
    "import numpy as np\n",
    "\n",
    "path = '../dataset/RockyIntertidalAdjacencyMatrix.csv'\n",
    "\n",
    "\n",
    "\n",
    "# Load the CSV file using numpy\n",
    "data = np.loadtxt(path)\n",
    "\n",
    "\n",
    "def RE_plotter(A, initialx, times=range(100)):\n",
    "\n",
    "    def re(x, t, A):\n",
    "        dx = x * np.dot(A, x)\n",
    "        return dx\n",
    "\n",
    "    k = A.shape[0]\n",
    "    parms = {'A': A}\n",
    "    out = odeint(re, initialx, times, args=(A, ))\n",
    "\n",
    "    plt.figure()\n",
    "    plt.xlabel('time t')\n",
    "    plt.ylabel('densities')\n",
    "    for i in range(k):\n",
    "        plt.plot(out[:, 0], out[:, i + 1], label='x' + str(i + 1))\n",
    "    plt.legend()\n",
    "    plt.show()\n",
    "RE_plotter(A, 5, times=range(100))"
   ]
  }
 ],
 "metadata": {
  "kernelspec": {
   "display_name": "Python 3 (ipykernel)",
   "language": "python",
   "name": "python3"
  },
  "language_info": {
   "codemirror_mode": {
    "name": "ipython",
    "version": 3
   },
   "file_extension": ".py",
   "mimetype": "text/x-python",
   "name": "python",
   "nbconvert_exporter": "python",
   "pygments_lexer": "ipython3",
   "version": "3.9.6"
  }
 },
 "nbformat": 4,
 "nbformat_minor": 5
}
